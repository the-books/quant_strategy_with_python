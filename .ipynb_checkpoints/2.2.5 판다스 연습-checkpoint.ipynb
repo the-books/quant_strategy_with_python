{
 "cells": [
  {
   "cell_type": "code",
   "execution_count": 13,
   "metadata": {},
   "outputs": [
    {
     "name": "stdout",
     "output_type": "stream",
     "text": [
      "<class 'pandas.core.series.Series'>\n",
      "지수    1995-01-03\n",
      "제니    1996-01-16\n",
      "로제    1997-02-11\n",
      "리사    1997-03-27\n",
      "dtype: object\n"
     ]
    }
   ],
   "source": [
    "import pandas as pd\n",
    "\n",
    "series_ex1 = pd.Series(\n",
    "    ['1995-01-03','1996-01-16','1997-02-11','1997-03-27'],\n",
    "    index=['지수','제니','로제','리사'],\n",
    ")\n",
    "print(type(series_ex1))\n",
    "print(series_ex1)"
   ]
  },
  {
   "cell_type": "code",
   "execution_count": 14,
   "metadata": {},
   "outputs": [
    {
     "name": "stdout",
     "output_type": "stream",
     "text": [
      "1995-01-03\n",
      "1996-01-16\n",
      "1997-02-11\n",
      "1997-03-27\n"
     ]
    }
   ],
   "source": [
    "print(series_ex1['지수'])\n",
    "print(series_ex1['제니'])\n",
    "print(series_ex1['로제'])\n",
    "print(series_ex1['리사'])"
   ]
  },
  {
   "cell_type": "code",
   "execution_count": 15,
   "metadata": {},
   "outputs": [
    {
     "name": "stdout",
     "output_type": "stream",
     "text": [
      "1995-01-03\n",
      "1996-01-16\n",
      "1997-02-11\n",
      "1997-03-27\n"
     ]
    }
   ],
   "source": [
    "print(series_ex1[0])\n",
    "print(series_ex1[1])\n",
    "print(series_ex1[2])\n",
    "print(series_ex1[3])"
   ]
  },
  {
   "cell_type": "code",
   "execution_count": 17,
   "metadata": {},
   "outputs": [
    {
     "name": "stdout",
     "output_type": "stream",
     "text": [
      "<class 'pandas.core.frame.DataFrame'>\n",
      "         birth  height  weight\n",
      "지수  1995-01-03     162      44\n",
      "제니  1996-01-16     163      46\n",
      "로제  1997-02-11     168      44\n",
      "리사  1997-03-27     167      45\n"
     ]
    }
   ],
   "source": [
    "df_ex1 = pd.DataFrame(\n",
    "    {\n",
    "      'birth':['1995-01-03','1996-01-16','1997-02-11','1997-03-27'],\n",
    "      'height':[162,163,168,167],\n",
    "      'weight':[44,46,44,45],\n",
    "    },\n",
    "    index=['지수','제니','로제','리사'],\n",
    ")\n",
    "print(type(df_ex1))\n",
    "print(df_ex1)"
   ]
  },
  {
   "cell_type": "code",
   "execution_count": 19,
   "metadata": {},
   "outputs": [
    {
     "name": "stdout",
     "output_type": "stream",
     "text": [
      "<class 'pandas.core.series.Series'>\n",
      "지수    162\n",
      "제니    163\n",
      "로제    168\n",
      "리사    167\n",
      "Name: height, dtype: int64\n"
     ]
    }
   ],
   "source": [
    "height = df_ex1['height']\n",
    "print(type(height))\n",
    "print(height)"
   ]
  },
  {
   "cell_type": "code",
   "execution_count": 20,
   "metadata": {},
   "outputs": [
    {
     "name": "stdout",
     "output_type": "stream",
     "text": [
      "<class 'pandas.core.series.Series'>\n",
      "지수    44\n",
      "제니    46\n",
      "로제    44\n",
      "리사    45\n",
      "Name: weight, dtype: int64\n"
     ]
    }
   ],
   "source": [
    "weight = df_ex1['weight']\n",
    "print(type(weight))\n",
    "print(weight)"
   ]
  },
  {
   "cell_type": "code",
   "execution_count": 23,
   "metadata": {},
   "outputs": [
    {
     "name": "stdout",
     "output_type": "stream",
     "text": [
      "167\n",
      "167\n",
      "45\n",
      "45\n"
     ]
    }
   ],
   "source": [
    "print(height['리사'])\n",
    "print(df_ex1['height']['리사'])\n",
    "print(weight['리사'])\n",
    "print(df_ex1['weight']['리사'])"
   ]
  },
  {
   "cell_type": "code",
   "execution_count": 29,
   "metadata": {},
   "outputs": [
    {
     "name": "stdout",
     "output_type": "stream",
     "text": [
      "<class 'pandas.core.series.Series'>\n",
      "birth     1996-01-16\n",
      "height           163\n",
      "weight            46\n",
      "Name: 제니, dtype: object\n"
     ]
    }
   ],
   "source": [
    "# df_ex1['제니']\n",
    "jennie = df_ex1.loc['제니']\n",
    "print(type(jennie))\n",
    "print(jennie)"
   ]
  }
 ],
 "metadata": {
  "kernelspec": {
   "display_name": "Python 3",
   "language": "python",
   "name": "python3"
  },
  "language_info": {
   "codemirror_mode": {
    "name": "ipython",
    "version": 3
   },
   "file_extension": ".py",
   "mimetype": "text/x-python",
   "name": "python",
   "nbconvert_exporter": "python",
   "pygments_lexer": "ipython3",
   "version": "3.7.6"
  }
 },
 "nbformat": 4,
 "nbformat_minor": 4
}
