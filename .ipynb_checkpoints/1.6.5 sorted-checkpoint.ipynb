{
 "cells": [
  {
   "cell_type": "code",
   "execution_count": 26,
   "metadata": {},
   "outputs": [
    {
     "data": {
      "text/plain": [
       "{'APS홀딩스': 0.23,\n",
       " 'STX중공업': 0.37,\n",
       " '제일파마홀딩스': 0.39,\n",
       " '이녹스': 0.75,\n",
       " '유비쿼스홀딩스': 1.04,\n",
       " '삼강엠앤티': 1.1,\n",
       " '오리온홀딩스': 1.1,\n",
       " '크라운해태홀딩스': 1.3,\n",
       " 'STX': 1.61,\n",
       " '현대시멘트': 1.84,\n",
       " '동부건설': 2.07,\n",
       " 'BGF': 2.18,\n",
       " '평화정공': 2.45,\n",
       " '차이나하오란': 2.49,\n",
       " '서연이화': 2.52,\n",
       " '서연': 2.55,\n",
       " '휠라코리아': 2.6,\n",
       " '삼호': 2.93,\n",
       " '현대중공업': 2.93}"
      ]
     },
     "execution_count": 26,
     "metadata": {},
     "output_type": "execute_result"
    }
   ],
   "source": [
    "import operator\n",
    "\n",
    "per_dict = {};\n",
    "\n",
    "per_dict['APS홀딩스'] = 0.23\n",
    "per_dict['STX중공업'] = 0.37\n",
    "per_dict['제일파마홀딩스'] = 0.39\n",
    "per_dict['이녹스'] = 0.75\n",
    "per_dict['유비쿼스홀딩스'] = 1.04\n",
    "per_dict['삼강엠앤티'] = 1.1\n",
    "per_dict['오리온홀딩스'] = 1.1\n",
    "per_dict['크라운해태홀딩스'] = 1.3\n",
    "per_dict['STX'] = 1.61\n",
    "per_dict['현대시멘트'] = 1.84\n",
    "per_dict['동부건설'] = 2.07\n",
    "per_dict['BGF'] = 2.18\n",
    "per_dict['평화정공'] = 2.45\n",
    "per_dict['차이나하오란'] = 2.49\n",
    "per_dict['서연이화'] = 2.52\n",
    "per_dict['서연'] = 2.55\n",
    "per_dict['휠라코리아'] = 2.6\n",
    "per_dict['삼호'] = 2.93\n",
    "per_dict['현대중공업'] = 2.93\n",
    "\n",
    "per_dict"
   ]
  },
  {
   "cell_type": "code",
   "execution_count": 27,
   "metadata": {},
   "outputs": [
    {
     "data": {
      "text/plain": [
       "dict_items([('APS홀딩스', 0.23), ('STX중공업', 0.37), ('제일파마홀딩스', 0.39), ('이녹스', 0.75), ('유비쿼스홀딩스', 1.04), ('삼강엠앤티', 1.1), ('오리온홀딩스', 1.1), ('크라운해태홀딩스', 1.3), ('STX', 1.61), ('현대시멘트', 1.84), ('동부건설', 2.07), ('BGF', 2.18), ('평화정공', 2.45), ('차이나하오란', 2.49), ('서연이화', 2.52), ('서연', 2.55), ('휠라코리아', 2.6), ('삼호', 2.93), ('현대중공업', 2.93)])"
      ]
     },
     "execution_count": 27,
     "metadata": {},
     "output_type": "execute_result"
    }
   ],
   "source": [
    "per_dict.items()"
   ]
  },
  {
   "cell_type": "code",
   "execution_count": 28,
   "metadata": {},
   "outputs": [],
   "source": [
    "sorted_per = sorted(per_dict.items(), key=operator.itemgetter(1))"
   ]
  },
  {
   "cell_type": "code",
   "execution_count": 29,
   "metadata": {},
   "outputs": [
    {
     "data": {
      "text/plain": [
       "[('APS홀딩스', 0.23),\n",
       " ('STX중공업', 0.37),\n",
       " ('제일파마홀딩스', 0.39),\n",
       " ('이녹스', 0.75),\n",
       " ('유비쿼스홀딩스', 1.04),\n",
       " ('삼강엠앤티', 1.1),\n",
       " ('오리온홀딩스', 1.1),\n",
       " ('크라운해태홀딩스', 1.3),\n",
       " ('STX', 1.61),\n",
       " ('현대시멘트', 1.84),\n",
       " ('동부건설', 2.07),\n",
       " ('BGF', 2.18),\n",
       " ('평화정공', 2.45),\n",
       " ('차이나하오란', 2.49),\n",
       " ('서연이화', 2.52),\n",
       " ('서연', 2.55),\n",
       " ('휠라코리아', 2.6),\n",
       " ('삼호', 2.93),\n",
       " ('현대중공업', 2.93)]"
      ]
     },
     "execution_count": 29,
     "metadata": {},
     "output_type": "execute_result"
    }
   ],
   "source": [
    "sorted_per"
   ]
  },
  {
   "cell_type": "code",
   "execution_count": 30,
   "metadata": {},
   "outputs": [],
   "source": [
    "per_rank = {}"
   ]
  },
  {
   "cell_type": "code",
   "execution_count": 32,
   "metadata": {},
   "outputs": [],
   "source": [
    "for num, firm in enumerate(sorted_per):\n",
    "    per_rank[firm[0]] = num + 1"
   ]
  },
  {
   "cell_type": "code",
   "execution_count": 33,
   "metadata": {},
   "outputs": [
    {
     "data": {
      "text/plain": [
       "{'APS홀딩스': 1,\n",
       " 'STX중공업': 2,\n",
       " '제일파마홀딩스': 3,\n",
       " '이녹스': 4,\n",
       " '유비쿼스홀딩스': 5,\n",
       " '삼강엠앤티': 6,\n",
       " '오리온홀딩스': 7,\n",
       " '크라운해태홀딩스': 8,\n",
       " 'STX': 9,\n",
       " '현대시멘트': 10,\n",
       " '동부건설': 11,\n",
       " 'BGF': 12,\n",
       " '평화정공': 13,\n",
       " '차이나하오란': 14,\n",
       " '서연이화': 15,\n",
       " '서연': 16,\n",
       " '휠라코리아': 17,\n",
       " '삼호': 18,\n",
       " '현대중공업': 19}"
      ]
     },
     "execution_count": 33,
     "metadata": {},
     "output_type": "execute_result"
    }
   ],
   "source": [
    "per_rank"
   ]
  },
  {
   "cell_type": "code",
   "execution_count": 34,
   "metadata": {},
   "outputs": [
    {
     "data": {
      "text/plain": [
       "16"
      ]
     },
     "execution_count": 34,
     "metadata": {},
     "output_type": "execute_result"
    }
   ],
   "source": [
    "per_rank['서연']"
   ]
  },
  {
   "cell_type": "code",
   "execution_count": null,
   "metadata": {},
   "outputs": [],
   "source": []
  }
 ],
 "metadata": {
  "kernelspec": {
   "display_name": "Python 3",
   "language": "python",
   "name": "python3"
  },
  "language_info": {
   "codemirror_mode": {
    "name": "ipython",
    "version": 3
   },
   "file_extension": ".py",
   "mimetype": "text/x-python",
   "name": "python",
   "nbconvert_exporter": "python",
   "pygments_lexer": "ipython3",
   "version": "3.7.6"
  }
 },
 "nbformat": 4,
 "nbformat_minor": 4
}
