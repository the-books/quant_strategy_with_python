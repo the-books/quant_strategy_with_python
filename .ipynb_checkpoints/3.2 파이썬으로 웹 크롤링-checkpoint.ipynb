{
 "cells": [
  {
   "cell_type": "code",
   "execution_count": 5,
   "metadata": {},
   "outputs": [
    {
     "name": "stdout",
     "output_type": "stream",
     "text": [
      "이재용 대국민 사과\n",
      "조주빈 공범\n",
      "대리점 갑질 남양유업\n",
      "대한민국 동행세일\n",
      "부따 강훈 구속기소\n",
      "강경화-폼페이오 통화\n",
      "벤츠도 배출가스 불법조작\n",
      "국정원 사실무근\n",
      "코로나19 극복\n",
      "당분간 입찰 중단\n",
      "챌린지 동참\n",
      "강석 김혜영\n",
      "박미선 장도연\n",
      "강남 전속계약\n",
      "세븐틴 정한 사과\n",
      "주문 바다요 노지훈\n",
      "NCT 127 도영-재현\n",
      "가요광장 신하균\n",
      "정희 핫펠트\n",
      "후임은 배기성 정영진\n"
     ]
    }
   ],
   "source": [
    "import requests\n",
    "import bs4\n",
    "\n",
    "naver_url = 'https://search.naver.com/search.naver?sm=top_hty&fbm=0&ie=utf8&query='\n",
    "naver_response = requests.get(naver_url)\n",
    "\n",
    "naver_bs = bs4.BeautifulSoup(naver_response.text, 'lxml')\n",
    "result_list = naver_bs.find_all('span', class_='tit')\n",
    "\n",
    "for span in result_list:\n",
    "    print(span.text)"
   ]
  },
  {
   "cell_type": "code",
   "execution_count": null,
   "metadata": {},
   "outputs": [],
   "source": []
  }
 ],
 "metadata": {
  "kernelspec": {
   "display_name": "Python 3",
   "language": "python",
   "name": "python3"
  },
  "language_info": {
   "codemirror_mode": {
    "name": "ipython",
    "version": 3
   },
   "file_extension": ".py",
   "mimetype": "text/x-python",
   "name": "python",
   "nbconvert_exporter": "python",
   "pygments_lexer": "ipython3",
   "version": "3.7.6"
  }
 },
 "nbformat": 4,
 "nbformat_minor": 4
}
