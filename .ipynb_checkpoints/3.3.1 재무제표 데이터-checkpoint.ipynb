{
 "cells": [
  {
   "cell_type": "code",
   "execution_count": 5,
   "metadata": {},
   "outputs": [],
   "source": [
    "import requests\n",
    "import pandas as pd\n",
    "\n",
    "def make_fs_dataframe(firm_code):\n",
    "    fs_url = 'http://comp.fnguide.com/SVO2/ASP/SVD_Finance.asp?pGB=1&cID=&MenuYn=Y&ReportGB=&NewMenuID=103&stkGb=701&gicode=' + firm_code\n",
    "    fs_page = requests.get(fs_url)\n",
    "    fs_tables = pd.read_html(fs_page.text)\n",
    "\n",
    "    temp_df = fs_tables[0]\n",
    "    temp_df = temp_df.set_index(temp_df.columns[0])\n",
    "    temp_df = temp_df[temp_df.columns[:4]]\n",
    "    temp_df = temp_df.loc[['매출액','영업이익','당기순이익']]\n",
    "\n",
    "    temp_df2 = fs_tables[2]\n",
    "    temp_df2 = temp_df2.set_index(temp_df2.columns[0])\n",
    "    temp_df2 = temp_df2.loc[['자산','부채','자본']]\n",
    "\n",
    "    temp_df3 = fs_tables[4]\n",
    "    temp_df3 = temp_df3.set_index(temp_df3.columns[0])\n",
    "    temp_df3 = temp_df3.loc[['영업활동으로인한현금흐름']]\n",
    "    \n",
    "    fs_df = pd.concat([temp_df, temp_df2, temp_df3])\n",
    "    \n",
    "    return fs_df"
   ]
  },
  {
   "cell_type": "code",
   "execution_count": 6,
   "metadata": {},
   "outputs": [],
   "source": [
    "def change_df(firm_code, dataframe):\n",
    "    for num, col in enumerate(dataframe.columns):\n",
    "        temp_df = pd.DataFrame({firm_code:dataframe[col]})\n",
    "        temp_df = temp_df.T\n",
    "        temp_df.columns = [[col]*len(dataframe), temp_df.columns]\n",
    "\n",
    "        if num == 0:\n",
    "            total_df = temp_df\n",
    "        else:\n",
    "            total_df = pd.merge(total_df, temp_df, how='outer', left_index=True, right_index=True)\n",
    "            \n",
    "    return total_df"
   ]
  },
  {
   "cell_type": "code",
   "execution_count": 7,
   "metadata": {},
   "outputs": [],
   "source": [
    "firm_code_list = ['A035420']\n",
    "\n",
    "for num, code in enumerate(firm_code_list):\n",
    "    fs_df = make_fs_dataframe(code)\n",
    "    fs_df_changed = change_df(code, fs_df)\n",
    "    \n",
    "    if num == 0:\n",
    "        total_fs = fs_df_changed\n",
    "    else:\n",
    "        total_fs = pd.concat([total_fs, fs_df_changed])"
   ]
  },
  {
   "cell_type": "code",
   "execution_count": 8,
   "metadata": {},
   "outputs": [
    {
     "data": {
      "text/plain": [
       "1"
      ]
     },
     "execution_count": 8,
     "metadata": {},
     "output_type": "execute_result"
    }
   ],
   "source": [
    "total_fs"
   ]
  },
  {
   "cell_type": "code",
   "execution_count": null,
   "metadata": {},
   "outputs": [],
   "source": []
  }
 ],
 "metadata": {
  "kernelspec": {
   "display_name": "Python 3",
   "language": "python",
   "name": "python3"
  },
  "language_info": {
   "codemirror_mode": {
    "name": "ipython",
    "version": 3
   },
   "file_extension": ".py",
   "mimetype": "text/x-python",
   "name": "python",
   "nbconvert_exporter": "python",
   "pygments_lexer": "ipython3",
   "version": "3.7.6"
  }
 },
 "nbformat": 4,
 "nbformat_minor": 4
}
