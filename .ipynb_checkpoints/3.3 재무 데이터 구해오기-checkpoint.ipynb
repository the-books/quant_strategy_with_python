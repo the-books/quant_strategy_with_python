{
 "cells": [
  {
   "cell_type": "code",
   "execution_count": 5,
   "metadata": {},
   "outputs": [
    {
     "data": {
      "text/html": [
       "<div>\n",
       "<style scoped>\n",
       "    .dataframe tbody tr th:only-of-type {\n",
       "        vertical-align: middle;\n",
       "    }\n",
       "\n",
       "    .dataframe tbody tr th {\n",
       "        vertical-align: top;\n",
       "    }\n",
       "\n",
       "    .dataframe thead th {\n",
       "        text-align: right;\n",
       "    }\n",
       "</style>\n",
       "<table border=\"1\" class=\"dataframe\">\n",
       "  <thead>\n",
       "    <tr style=\"text-align: right;\">\n",
       "      <th></th>\n",
       "      <th>2016/12</th>\n",
       "      <th>2017/12</th>\n",
       "      <th>2018/12</th>\n",
       "      <th>2019/12</th>\n",
       "    </tr>\n",
       "    <tr>\n",
       "      <th>IFRS(연결)</th>\n",
       "      <th></th>\n",
       "      <th></th>\n",
       "      <th></th>\n",
       "      <th></th>\n",
       "    </tr>\n",
       "  </thead>\n",
       "  <tbody>\n",
       "    <tr>\n",
       "      <th>매출액</th>\n",
       "      <td>2018667.0</td>\n",
       "      <td>2395754.0</td>\n",
       "      <td>2437714.0</td>\n",
       "      <td>2304009.0</td>\n",
       "    </tr>\n",
       "    <tr>\n",
       "      <th>영업이익</th>\n",
       "      <td>292407.0</td>\n",
       "      <td>536450.0</td>\n",
       "      <td>588867.0</td>\n",
       "      <td>277685.0</td>\n",
       "    </tr>\n",
       "    <tr>\n",
       "      <th>당기순이익</th>\n",
       "      <td>227261.0</td>\n",
       "      <td>421867.0</td>\n",
       "      <td>443449.0</td>\n",
       "      <td>217389.0</td>\n",
       "    </tr>\n",
       "  </tbody>\n",
       "</table>\n",
       "</div>"
      ],
      "text/plain": [
       "            2016/12    2017/12    2018/12    2019/12\n",
       "IFRS(연결)                                            \n",
       "매출액       2018667.0  2395754.0  2437714.0  2304009.0\n",
       "영업이익       292407.0   536450.0   588867.0   277685.0\n",
       "당기순이익      227261.0   421867.0   443449.0   217389.0"
      ]
     },
     "execution_count": 5,
     "metadata": {},
     "output_type": "execute_result"
    }
   ],
   "source": [
    "import requests\n",
    "import pandas as pd\n",
    "\n",
    "fs_url = 'http://comp.fnguide.com/SVO2/ASP/SVD_Finance.asp?pGB=1&gicode=A005930&cID=&MenuYn=Y&ReportGB=&NewMenuID=103&stkGb=701'\n",
    "fs_page = requests.get(fs_url)\n",
    "fs_tables = pd.read_html(fs_page.text)\n",
    "\n",
    "temp_df = fs_tables[0]\n",
    "temp_df = temp_df.set_index('IFRS(연결)')\n",
    "temp_df = temp_df[['2016/12','2017/12','2018/12','2019/12']]\n",
    "temp_df = temp_df.loc[['매출액','영업이익','당기순이익']]\n",
    "\n",
    "# temp_df"
   ]
  },
  {
   "cell_type": "code",
   "execution_count": 6,
   "metadata": {},
   "outputs": [
    {
     "data": {
      "text/html": [
       "<div>\n",
       "<style scoped>\n",
       "    .dataframe tbody tr th:only-of-type {\n",
       "        vertical-align: middle;\n",
       "    }\n",
       "\n",
       "    .dataframe tbody tr th {\n",
       "        vertical-align: top;\n",
       "    }\n",
       "\n",
       "    .dataframe thead th {\n",
       "        text-align: right;\n",
       "    }\n",
       "</style>\n",
       "<table border=\"1\" class=\"dataframe\">\n",
       "  <thead>\n",
       "    <tr style=\"text-align: right;\">\n",
       "      <th></th>\n",
       "      <th>2016/12</th>\n",
       "      <th>2017/12</th>\n",
       "      <th>2018/12</th>\n",
       "      <th>2019/12</th>\n",
       "    </tr>\n",
       "    <tr>\n",
       "      <th>IFRS(연결)</th>\n",
       "      <th></th>\n",
       "      <th></th>\n",
       "      <th></th>\n",
       "      <th></th>\n",
       "    </tr>\n",
       "  </thead>\n",
       "  <tbody>\n",
       "    <tr>\n",
       "      <th>자산</th>\n",
       "      <td>2621743.0</td>\n",
       "      <td>3017521.0</td>\n",
       "      <td>3393572.0</td>\n",
       "      <td>3525645.0</td>\n",
       "    </tr>\n",
       "    <tr>\n",
       "      <th>부채</th>\n",
       "      <td>692113.0</td>\n",
       "      <td>872607.0</td>\n",
       "      <td>916041.0</td>\n",
       "      <td>896841.0</td>\n",
       "    </tr>\n",
       "    <tr>\n",
       "      <th>자본</th>\n",
       "      <td>1929630.0</td>\n",
       "      <td>2144914.0</td>\n",
       "      <td>2477532.0</td>\n",
       "      <td>2628804.0</td>\n",
       "    </tr>\n",
       "  </tbody>\n",
       "</table>\n",
       "</div>"
      ],
      "text/plain": [
       "            2016/12    2017/12    2018/12    2019/12\n",
       "IFRS(연결)                                            \n",
       "자산        2621743.0  3017521.0  3393572.0  3525645.0\n",
       "부채         692113.0   872607.0   916041.0   896841.0\n",
       "자본        1929630.0  2144914.0  2477532.0  2628804.0"
      ]
     },
     "execution_count": 6,
     "metadata": {},
     "output_type": "execute_result"
    }
   ],
   "source": [
    "temp_df2 = fs_tables[2]\n",
    "temp_df2 = temp_df2.set_index('IFRS(연결)')\n",
    "temp_df2 = temp_df2.loc[['자산','부채','자본']]\n",
    "\n",
    "# temp_df2"
   ]
  },
  {
   "cell_type": "code",
   "execution_count": 7,
   "metadata": {},
   "outputs": [
    {
     "data": {
      "text/html": [
       "<div>\n",
       "<style scoped>\n",
       "    .dataframe tbody tr th:only-of-type {\n",
       "        vertical-align: middle;\n",
       "    }\n",
       "\n",
       "    .dataframe tbody tr th {\n",
       "        vertical-align: top;\n",
       "    }\n",
       "\n",
       "    .dataframe thead th {\n",
       "        text-align: right;\n",
       "    }\n",
       "</style>\n",
       "<table border=\"1\" class=\"dataframe\">\n",
       "  <thead>\n",
       "    <tr style=\"text-align: right;\">\n",
       "      <th></th>\n",
       "      <th>2016/12</th>\n",
       "      <th>2017/12</th>\n",
       "      <th>2018/12</th>\n",
       "      <th>2019/12</th>\n",
       "    </tr>\n",
       "    <tr>\n",
       "      <th>IFRS(연결)</th>\n",
       "      <th></th>\n",
       "      <th></th>\n",
       "      <th></th>\n",
       "      <th></th>\n",
       "    </tr>\n",
       "  </thead>\n",
       "  <tbody>\n",
       "    <tr>\n",
       "      <th>영업활동으로인한현금흐름</th>\n",
       "      <td>473856.0</td>\n",
       "      <td>621620.0</td>\n",
       "      <td>670319.0</td>\n",
       "      <td>453829.0</td>\n",
       "    </tr>\n",
       "  </tbody>\n",
       "</table>\n",
       "</div>"
      ],
      "text/plain": [
       "               2016/12   2017/12   2018/12   2019/12\n",
       "IFRS(연결)                                            \n",
       "영업활동으로인한현금흐름  473856.0  621620.0  670319.0  453829.0"
      ]
     },
     "execution_count": 7,
     "metadata": {},
     "output_type": "execute_result"
    }
   ],
   "source": [
    "temp_df3 = fs_tables[4]\n",
    "temp_df3 = temp_df3.set_index('IFRS(연결)')\n",
    "temp_df3 = temp_df3.loc[['영업활동으로인한현금흐름']]\n",
    "\n",
    "# temp_df3"
   ]
  },
  {
   "cell_type": "code",
   "execution_count": null,
   "metadata": {},
   "outputs": [],
   "source": [
    "fs_df = pd.concat([temp_df, temp_df2, temp_df3])\n",
    "\n",
    "fs_df"
   ]
  }
 ],
 "metadata": {
  "kernelspec": {
   "display_name": "Python 3",
   "language": "python",
   "name": "python3"
  },
  "language_info": {
   "codemirror_mode": {
    "name": "ipython",
    "version": 3
   },
   "file_extension": ".py",
   "mimetype": "text/x-python",
   "name": "python",
   "nbconvert_exporter": "python",
   "pygments_lexer": "ipython3",
   "version": "3.7.6"
  }
 },
 "nbformat": 4,
 "nbformat_minor": 4
}
