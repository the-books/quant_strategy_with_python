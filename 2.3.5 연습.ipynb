{
 "cells": [
  {
   "cell_type": "code",
   "execution_count": 1,
   "metadata": {},
   "outputs": [],
   "source": [
    "import pandas as pd\n",
    "\n",
    "df_twice = pd.DataFrame({\n",
    "    'birth':[\n",
    "        '1995-09-22','1996-11-01','1996-11-09','1996-12-29','1997-02-01','1997-03-24','1998-05-28','1999-04-23','1999-06-14'\n",
    "    ],\n",
    "    'height':[163,167,162,164,160,163,158,160,170],\n",
    "    'weight':[48.6,49,49,45,47,46,49,47,49],\n",
    "}, index=['나연','정연','모모','사나','지효','미나','다현','채영','쯔위'])\n",
    "\n"
   ]
  },
  {
   "cell_type": "code",
   "execution_count": 2,
   "metadata": {},
   "outputs": [
    {
     "data": {
      "text/html": [
       "<div>\n",
       "<style scoped>\n",
       "    .dataframe tbody tr th:only-of-type {\n",
       "        vertical-align: middle;\n",
       "    }\n",
       "\n",
       "    .dataframe tbody tr th {\n",
       "        vertical-align: top;\n",
       "    }\n",
       "\n",
       "    .dataframe thead th {\n",
       "        text-align: right;\n",
       "    }\n",
       "</style>\n",
       "<table border=\"1\" class=\"dataframe\">\n",
       "  <thead>\n",
       "    <tr style=\"text-align: right;\">\n",
       "      <th></th>\n",
       "      <th>birth</th>\n",
       "      <th>height</th>\n",
       "      <th>weight</th>\n",
       "    </tr>\n",
       "  </thead>\n",
       "  <tbody>\n",
       "    <tr>\n",
       "      <th>나연</th>\n",
       "      <td>1995-09-22</td>\n",
       "      <td>163</td>\n",
       "      <td>48.6</td>\n",
       "    </tr>\n",
       "    <tr>\n",
       "      <th>정연</th>\n",
       "      <td>1996-11-01</td>\n",
       "      <td>167</td>\n",
       "      <td>49.0</td>\n",
       "    </tr>\n",
       "    <tr>\n",
       "      <th>모모</th>\n",
       "      <td>1996-11-09</td>\n",
       "      <td>162</td>\n",
       "      <td>49.0</td>\n",
       "    </tr>\n",
       "    <tr>\n",
       "      <th>사나</th>\n",
       "      <td>1996-12-29</td>\n",
       "      <td>164</td>\n",
       "      <td>45.0</td>\n",
       "    </tr>\n",
       "    <tr>\n",
       "      <th>지효</th>\n",
       "      <td>1997-02-01</td>\n",
       "      <td>160</td>\n",
       "      <td>47.0</td>\n",
       "    </tr>\n",
       "    <tr>\n",
       "      <th>미나</th>\n",
       "      <td>1997-03-24</td>\n",
       "      <td>163</td>\n",
       "      <td>46.0</td>\n",
       "    </tr>\n",
       "    <tr>\n",
       "      <th>다현</th>\n",
       "      <td>1998-05-28</td>\n",
       "      <td>158</td>\n",
       "      <td>49.0</td>\n",
       "    </tr>\n",
       "    <tr>\n",
       "      <th>채영</th>\n",
       "      <td>1999-04-23</td>\n",
       "      <td>160</td>\n",
       "      <td>47.0</td>\n",
       "    </tr>\n",
       "    <tr>\n",
       "      <th>쯔위</th>\n",
       "      <td>1999-06-14</td>\n",
       "      <td>170</td>\n",
       "      <td>49.0</td>\n",
       "    </tr>\n",
       "  </tbody>\n",
       "</table>\n",
       "</div>"
      ],
      "text/plain": [
       "         birth  height  weight\n",
       "나연  1995-09-22     163    48.6\n",
       "정연  1996-11-01     167    49.0\n",
       "모모  1996-11-09     162    49.0\n",
       "사나  1996-12-29     164    45.0\n",
       "지효  1997-02-01     160    47.0\n",
       "미나  1997-03-24     163    46.0\n",
       "다현  1998-05-28     158    49.0\n",
       "채영  1999-04-23     160    47.0\n",
       "쯔위  1999-06-14     170    49.0"
      ]
     },
     "execution_count": 2,
     "metadata": {},
     "output_type": "execute_result"
    }
   ],
   "source": [
    "df_twice"
   ]
  },
  {
   "cell_type": "code",
   "execution_count": 6,
   "metadata": {},
   "outputs": [
    {
     "data": {
      "text/html": [
       "<div>\n",
       "<style scoped>\n",
       "    .dataframe tbody tr th:only-of-type {\n",
       "        vertical-align: middle;\n",
       "    }\n",
       "\n",
       "    .dataframe tbody tr th {\n",
       "        vertical-align: top;\n",
       "    }\n",
       "\n",
       "    .dataframe thead th {\n",
       "        text-align: right;\n",
       "    }\n",
       "</style>\n",
       "<table border=\"1\" class=\"dataframe\">\n",
       "  <thead>\n",
       "    <tr style=\"text-align: right;\">\n",
       "      <th></th>\n",
       "      <th>birth</th>\n",
       "      <th>height</th>\n",
       "      <th>weight</th>\n",
       "    </tr>\n",
       "  </thead>\n",
       "  <tbody>\n",
       "    <tr>\n",
       "      <th>나연</th>\n",
       "      <td>1995-09-22</td>\n",
       "      <td>163</td>\n",
       "      <td>48.6</td>\n",
       "    </tr>\n",
       "    <tr>\n",
       "      <th>정연</th>\n",
       "      <td>1996-11-01</td>\n",
       "      <td>167</td>\n",
       "      <td>49.0</td>\n",
       "    </tr>\n",
       "    <tr>\n",
       "      <th>사나</th>\n",
       "      <td>1996-12-29</td>\n",
       "      <td>164</td>\n",
       "      <td>45.0</td>\n",
       "    </tr>\n",
       "    <tr>\n",
       "      <th>미나</th>\n",
       "      <td>1997-03-24</td>\n",
       "      <td>163</td>\n",
       "      <td>46.0</td>\n",
       "    </tr>\n",
       "    <tr>\n",
       "      <th>쯔위</th>\n",
       "      <td>1999-06-14</td>\n",
       "      <td>170</td>\n",
       "      <td>49.0</td>\n",
       "    </tr>\n",
       "  </tbody>\n",
       "</table>\n",
       "</div>"
      ],
      "text/plain": [
       "         birth  height  weight\n",
       "나연  1995-09-22     163    48.6\n",
       "정연  1996-11-01     167    49.0\n",
       "사나  1996-12-29     164    45.0\n",
       "미나  1997-03-24     163    46.0\n",
       "쯔위  1999-06-14     170    49.0"
      ]
     },
     "execution_count": 6,
     "metadata": {},
     "output_type": "execute_result"
    }
   ],
   "source": [
    "df_twice[df_twice['height'] >= 163]"
   ]
  },
  {
   "cell_type": "code",
   "execution_count": 8,
   "metadata": {},
   "outputs": [
    {
     "data": {
      "text/html": [
       "<div>\n",
       "<style scoped>\n",
       "    .dataframe tbody tr th:only-of-type {\n",
       "        vertical-align: middle;\n",
       "    }\n",
       "\n",
       "    .dataframe tbody tr th {\n",
       "        vertical-align: top;\n",
       "    }\n",
       "\n",
       "    .dataframe thead th {\n",
       "        text-align: right;\n",
       "    }\n",
       "</style>\n",
       "<table border=\"1\" class=\"dataframe\">\n",
       "  <thead>\n",
       "    <tr style=\"text-align: right;\">\n",
       "      <th></th>\n",
       "      <th>birth</th>\n",
       "      <th>height</th>\n",
       "      <th>weight</th>\n",
       "    </tr>\n",
       "  </thead>\n",
       "  <tbody>\n",
       "    <tr>\n",
       "      <th>사나</th>\n",
       "      <td>1996-12-29</td>\n",
       "      <td>164</td>\n",
       "      <td>45.0</td>\n",
       "    </tr>\n",
       "    <tr>\n",
       "      <th>지효</th>\n",
       "      <td>1997-02-01</td>\n",
       "      <td>160</td>\n",
       "      <td>47.0</td>\n",
       "    </tr>\n",
       "    <tr>\n",
       "      <th>미나</th>\n",
       "      <td>1997-03-24</td>\n",
       "      <td>163</td>\n",
       "      <td>46.0</td>\n",
       "    </tr>\n",
       "    <tr>\n",
       "      <th>채영</th>\n",
       "      <td>1999-04-23</td>\n",
       "      <td>160</td>\n",
       "      <td>47.0</td>\n",
       "    </tr>\n",
       "  </tbody>\n",
       "</table>\n",
       "</div>"
      ],
      "text/plain": [
       "         birth  height  weight\n",
       "사나  1996-12-29     164    45.0\n",
       "지효  1997-02-01     160    47.0\n",
       "미나  1997-03-24     163    46.0\n",
       "채영  1999-04-23     160    47.0"
      ]
     },
     "execution_count": 8,
     "metadata": {},
     "output_type": "execute_result"
    }
   ],
   "source": [
    "df_twice[df_twice['weight'] < 48]"
   ]
  },
  {
   "cell_type": "code",
   "execution_count": 9,
   "metadata": {},
   "outputs": [
    {
     "data": {
      "text/plain": [
       "다현    158\n",
       "지효    160\n",
       "채영    160\n",
       "모모    162\n",
       "나연    163\n",
       "미나    163\n",
       "사나    164\n",
       "정연    167\n",
       "쯔위    170\n",
       "Name: height, dtype: int64"
      ]
     },
     "execution_count": 9,
     "metadata": {},
     "output_type": "execute_result"
    }
   ],
   "source": [
    "df_twice['height'].sort_values()"
   ]
  },
  {
   "cell_type": "code",
   "execution_count": 10,
   "metadata": {},
   "outputs": [
    {
     "data": {
      "text/plain": [
       "쯔위    170\n",
       "정연    167\n",
       "사나    164\n",
       "미나    163\n",
       "나연    163\n",
       "모모    162\n",
       "채영    160\n",
       "지효    160\n",
       "다현    158\n",
       "Name: height, dtype: int64"
      ]
     },
     "execution_count": 10,
     "metadata": {},
     "output_type": "execute_result"
    }
   ],
   "source": [
    "df_twice['height'].sort_values(ascending=False)"
   ]
  },
  {
   "cell_type": "code",
   "execution_count": 11,
   "metadata": {},
   "outputs": [
    {
     "data": {
      "text/html": [
       "<div>\n",
       "<style scoped>\n",
       "    .dataframe tbody tr th:only-of-type {\n",
       "        vertical-align: middle;\n",
       "    }\n",
       "\n",
       "    .dataframe tbody tr th {\n",
       "        vertical-align: top;\n",
       "    }\n",
       "\n",
       "    .dataframe thead th {\n",
       "        text-align: right;\n",
       "    }\n",
       "</style>\n",
       "<table border=\"1\" class=\"dataframe\">\n",
       "  <thead>\n",
       "    <tr style=\"text-align: right;\">\n",
       "      <th></th>\n",
       "      <th>birth</th>\n",
       "      <th>height</th>\n",
       "      <th>weight</th>\n",
       "    </tr>\n",
       "  </thead>\n",
       "  <tbody>\n",
       "    <tr>\n",
       "      <th>다현</th>\n",
       "      <td>1998-05-28</td>\n",
       "      <td>158</td>\n",
       "      <td>49.0</td>\n",
       "    </tr>\n",
       "    <tr>\n",
       "      <th>지효</th>\n",
       "      <td>1997-02-01</td>\n",
       "      <td>160</td>\n",
       "      <td>47.0</td>\n",
       "    </tr>\n",
       "    <tr>\n",
       "      <th>채영</th>\n",
       "      <td>1999-04-23</td>\n",
       "      <td>160</td>\n",
       "      <td>47.0</td>\n",
       "    </tr>\n",
       "    <tr>\n",
       "      <th>모모</th>\n",
       "      <td>1996-11-09</td>\n",
       "      <td>162</td>\n",
       "      <td>49.0</td>\n",
       "    </tr>\n",
       "    <tr>\n",
       "      <th>나연</th>\n",
       "      <td>1995-09-22</td>\n",
       "      <td>163</td>\n",
       "      <td>48.6</td>\n",
       "    </tr>\n",
       "    <tr>\n",
       "      <th>미나</th>\n",
       "      <td>1997-03-24</td>\n",
       "      <td>163</td>\n",
       "      <td>46.0</td>\n",
       "    </tr>\n",
       "    <tr>\n",
       "      <th>사나</th>\n",
       "      <td>1996-12-29</td>\n",
       "      <td>164</td>\n",
       "      <td>45.0</td>\n",
       "    </tr>\n",
       "    <tr>\n",
       "      <th>정연</th>\n",
       "      <td>1996-11-01</td>\n",
       "      <td>167</td>\n",
       "      <td>49.0</td>\n",
       "    </tr>\n",
       "    <tr>\n",
       "      <th>쯔위</th>\n",
       "      <td>1999-06-14</td>\n",
       "      <td>170</td>\n",
       "      <td>49.0</td>\n",
       "    </tr>\n",
       "  </tbody>\n",
       "</table>\n",
       "</div>"
      ],
      "text/plain": [
       "         birth  height  weight\n",
       "다현  1998-05-28     158    49.0\n",
       "지효  1997-02-01     160    47.0\n",
       "채영  1999-04-23     160    47.0\n",
       "모모  1996-11-09     162    49.0\n",
       "나연  1995-09-22     163    48.6\n",
       "미나  1997-03-24     163    46.0\n",
       "사나  1996-12-29     164    45.0\n",
       "정연  1996-11-01     167    49.0\n",
       "쯔위  1999-06-14     170    49.0"
      ]
     },
     "execution_count": 11,
     "metadata": {},
     "output_type": "execute_result"
    }
   ],
   "source": [
    "df_twice.sort_values(by='height')"
   ]
  },
  {
   "cell_type": "code",
   "execution_count": 12,
   "metadata": {},
   "outputs": [
    {
     "data": {
      "text/html": [
       "<div>\n",
       "<style scoped>\n",
       "    .dataframe tbody tr th:only-of-type {\n",
       "        vertical-align: middle;\n",
       "    }\n",
       "\n",
       "    .dataframe tbody tr th {\n",
       "        vertical-align: top;\n",
       "    }\n",
       "\n",
       "    .dataframe thead th {\n",
       "        text-align: right;\n",
       "    }\n",
       "</style>\n",
       "<table border=\"1\" class=\"dataframe\">\n",
       "  <thead>\n",
       "    <tr style=\"text-align: right;\">\n",
       "      <th></th>\n",
       "      <th>birth</th>\n",
       "      <th>height</th>\n",
       "      <th>weight</th>\n",
       "    </tr>\n",
       "  </thead>\n",
       "  <tbody>\n",
       "    <tr>\n",
       "      <th>쯔위</th>\n",
       "      <td>1999-06-14</td>\n",
       "      <td>170</td>\n",
       "      <td>49.0</td>\n",
       "    </tr>\n",
       "    <tr>\n",
       "      <th>정연</th>\n",
       "      <td>1996-11-01</td>\n",
       "      <td>167</td>\n",
       "      <td>49.0</td>\n",
       "    </tr>\n",
       "    <tr>\n",
       "      <th>사나</th>\n",
       "      <td>1996-12-29</td>\n",
       "      <td>164</td>\n",
       "      <td>45.0</td>\n",
       "    </tr>\n",
       "    <tr>\n",
       "      <th>나연</th>\n",
       "      <td>1995-09-22</td>\n",
       "      <td>163</td>\n",
       "      <td>48.6</td>\n",
       "    </tr>\n",
       "    <tr>\n",
       "      <th>미나</th>\n",
       "      <td>1997-03-24</td>\n",
       "      <td>163</td>\n",
       "      <td>46.0</td>\n",
       "    </tr>\n",
       "    <tr>\n",
       "      <th>모모</th>\n",
       "      <td>1996-11-09</td>\n",
       "      <td>162</td>\n",
       "      <td>49.0</td>\n",
       "    </tr>\n",
       "    <tr>\n",
       "      <th>지효</th>\n",
       "      <td>1997-02-01</td>\n",
       "      <td>160</td>\n",
       "      <td>47.0</td>\n",
       "    </tr>\n",
       "    <tr>\n",
       "      <th>채영</th>\n",
       "      <td>1999-04-23</td>\n",
       "      <td>160</td>\n",
       "      <td>47.0</td>\n",
       "    </tr>\n",
       "    <tr>\n",
       "      <th>다현</th>\n",
       "      <td>1998-05-28</td>\n",
       "      <td>158</td>\n",
       "      <td>49.0</td>\n",
       "    </tr>\n",
       "  </tbody>\n",
       "</table>\n",
       "</div>"
      ],
      "text/plain": [
       "         birth  height  weight\n",
       "쯔위  1999-06-14     170    49.0\n",
       "정연  1996-11-01     167    49.0\n",
       "사나  1996-12-29     164    45.0\n",
       "나연  1995-09-22     163    48.6\n",
       "미나  1997-03-24     163    46.0\n",
       "모모  1996-11-09     162    49.0\n",
       "지효  1997-02-01     160    47.0\n",
       "채영  1999-04-23     160    47.0\n",
       "다현  1998-05-28     158    49.0"
      ]
     },
     "execution_count": 12,
     "metadata": {},
     "output_type": "execute_result"
    }
   ],
   "source": [
    "df_twice.sort_values(by='height',ascending=False)"
   ]
  },
  {
   "cell_type": "code",
   "execution_count": 15,
   "metadata": {},
   "outputs": [
    {
     "data": {
      "text/plain": [
       "나연    5.5\n",
       "정연    8.0\n",
       "모모    4.0\n",
       "사나    7.0\n",
       "지효    2.5\n",
       "미나    5.5\n",
       "다현    1.0\n",
       "채영    2.5\n",
       "쯔위    9.0\n",
       "Name: height, dtype: float64"
      ]
     },
     "execution_count": 15,
     "metadata": {},
     "output_type": "execute_result"
    }
   ],
   "source": [
    "df_twice['height'].rank()"
   ]
  },
  {
   "cell_type": "code",
   "execution_count": 16,
   "metadata": {},
   "outputs": [
    {
     "data": {
      "text/plain": [
       "나연    4.5\n",
       "정연    2.0\n",
       "모모    6.0\n",
       "사나    3.0\n",
       "지효    7.5\n",
       "미나    4.5\n",
       "다현    9.0\n",
       "채영    7.5\n",
       "쯔위    1.0\n",
       "Name: height, dtype: float64"
      ]
     },
     "execution_count": 16,
     "metadata": {},
     "output_type": "execute_result"
    }
   ],
   "source": [
    "df_twice['height'].rank(ascending=False)"
   ]
  },
  {
   "cell_type": "code",
   "execution_count": null,
   "metadata": {},
   "outputs": [],
   "source": []
  }
 ],
 "metadata": {
  "kernelspec": {
   "display_name": "Python 3",
   "language": "python",
   "name": "python3"
  },
  "language_info": {
   "codemirror_mode": {
    "name": "ipython",
    "version": 3
   },
   "file_extension": ".py",
   "mimetype": "text/x-python",
   "name": "python",
   "nbconvert_exporter": "python",
   "pygments_lexer": "ipython3",
   "version": "3.7.6"
  }
 },
 "nbformat": 4,
 "nbformat_minor": 4
}
